{
 "cells": [
  {
   "cell_type": "markdown",
   "metadata": {},
   "source": [
    "# Sentiment Analysis"
   ]
  },
  {
   "cell_type": "markdown",
   "metadata": {},
   "source": [
    "One of the trending topic was chosen on Twitter to perform sentiment analysis. For the purpose of this analysis, I've collected 1472 tweets. Based on the agreeement with Twitter to only read the tweets and do analysis for academic project, I won't be sharing the trending topic nor the content of the tweets.                            \n",
    "\n",
    "The sentiment analysis was performed on a \"word\" level. I've attached 2 text files containing positive words and negative words. If the number of positive words in all of the tweets were more than the number of negative words, then I've concluded that the sentiment is positive. In order to further quantify if the sentiment is strongly positive or negative, 4 sentiment levels (strongly neative, moderately negative, moderately positive, strongly positive) were chosen."
   ]
  },
  {
   "cell_type": "code",
   "execution_count": 1,
   "metadata": {},
   "outputs": [],
   "source": [
    "# --------Print all the outputs in a cell--------\n",
    "from IPython.core.interactiveshell import InteractiveShell\n",
    "InteractiveShell.ast_node_interactivity = \"all\""
   ]
  },
  {
   "cell_type": "markdown",
   "metadata": {},
   "source": [
    "### To extract text files and make a dictionary"
   ]
  },
  {
   "cell_type": "markdown",
   "metadata": {},
   "source": [
    "2 text files of positive and negative words were converted into 2 lists each and then made into 1 dictionary."
   ]
  },
  {
   "cell_type": "markdown",
   "metadata": {},
   "source": [
    "Positive word list source: http://ptrckprry.com/course/ssd/data/positive-words.txt           \n",
    "Negative word list source: http://ptrckprry.com/course/ssd/data/negative-words.txt           \n",
    "\n",
    "; If you use this list, please cite one of the following two papers:\n",
    ";\n",
    ";   Minqing Hu and Bing Liu. \"Mining and Summarizing Customer Reviews.\" \n",
    ";       Proceedings of the ACM SIGKDD International Conference on Knowledge \n",
    ";       Discovery and Data Mining (KDD-2004), Aug 22-25, 2004, Seattle, \n",
    ";       Washington, USA,                           \n",
    ";   Bing Liu, Minqing Hu and Junsheng Cheng. \"Opinion Observer: Analyzing \n",
    ";       and Comparing Opinions on the Web.\" Proceedings of the 14th \n",
    ";       International World Wide Web conference (WWW-2005), May 10-14, \n",
    ";       2005, Chiba, Japan."
   ]
  },
  {
   "cell_type": "code",
   "execution_count": 2,
   "metadata": {},
   "outputs": [],
   "source": [
    "# --------To read negative words from a text file and put it in a list--------\n",
    "neg = [line.strip() for line in open('NegativeWords.txt', 'r')]\n",
    "#print(neg)\n",
    "# Prints list of negative words"
   ]
  },
  {
   "cell_type": "code",
   "execution_count": 3,
   "metadata": {},
   "outputs": [],
   "source": [
    "# --------To read positive words from a text file and put it in a list--------\n",
    "pos = [line.strip() for line in open('PositiveWords.txt', 'r')]\n",
    "#print(pos)\n",
    "# Prints list of positive words"
   ]
  },
  {
   "cell_type": "code",
   "execution_count": 4,
   "metadata": {},
   "outputs": [],
   "source": [
    "# --------To make a single dictionary of positive and negative words.\n",
    "d1 = {}                   \n",
    "# Create an empty dictionary\n",
    "\n",
    "for word in pos:            \n",
    "    d1[word] = 1          \n",
    "# Each positive word is a key in the dictionary and its value is assigned to be +1 using above for loop\n",
    "\n",
    "for word in neg:\n",
    "    d1[word] = -1         \n",
    "# Each negative word is a key in the dictionary and its value is assigned to be -1 using above for loop\n",
    "\n",
    "#print(d1)\n",
    "# Prints dictionary of words as keys and values as +1 for positive word and -1 for negative word"
   ]
  },
  {
   "cell_type": "markdown",
   "metadata": {},
   "source": [
    "### To extract text file containing tweets and save it as a list"
   ]
  },
  {
   "cell_type": "code",
   "execution_count": 5,
   "metadata": {},
   "outputs": [],
   "source": [
    "# --------To pull out tweets from the text file and save it as a list--------\n",
    "t = []\n",
    "# Create an empty list\n",
    "\n",
    "t = [word.lower().split() for word in open('tweets.txt', 'r', encoding = \"utf-8\")] \n",
    "\n",
    "#print(t)        \n",
    "# Prints list of tweets by splitting each sentence into set of words."
   ]
  },
  {
   "cell_type": "markdown",
   "metadata": {},
   "source": [
    "### To calculate the overall sentiment:"
   ]
  },
  {
   "cell_type": "code",
   "execution_count": 6,
   "metadata": {},
   "outputs": [
    {
     "name": "stdout",
     "output_type": "stream",
     "text": [
      "The total number of positive words is: 1653\n",
      "The total number of negative words is: 887\n",
      "The overall sentiment of the tweets in numeric value is: 766\n"
     ]
    }
   ],
   "source": [
    "pC = 0\n",
    "# Create and initialize a variable to count number of positive words\n",
    "nC = 0\n",
    "# Create and initialize a variable to count number of negative words\n",
    "\n",
    "for tweet in t:                                           # for every element in the list                                  \n",
    "    for word in tweet:                                       # for every word in the element\n",
    "        w1 = word.strip(' ’”\"‘ !#@,./\\_][ >:;&“》©$’?•')        # remove punctuations attached to each word\n",
    "        if (w1 in d1.keys()):                                      # If clean word is present in the dictionary\n",
    "            if (d1[w1] == 1):                                         # if it is a positive word\n",
    "                pC += 1                                                  # increase the count of positive word\n",
    "            elif (d1[w1] == -1):                                      # else\n",
    "                nC += 1                                                  # increase the count of negative word\n",
    "                \n",
    "print(\"The total number of positive words is: \" + str(pC))\n",
    "# Prints: The total number of positive words is: 1653\n",
    "\n",
    "print(\"The total number of negative words is: \" + str(nC))\n",
    "# Prints: The total number of negative words is: 887\n",
    "\n",
    "print(\"The overall sentiment of the tweets in numeric value is: \" + str(pC - nC))\n",
    "# This gives the overall sentiment is nothing but the difference of positive and negative words which is (positive) 766."
   ]
  },
  {
   "cell_type": "markdown",
   "metadata": {},
   "source": [
    "Note: We can also calculate the sentiment by creating a variable and initializing it to be zero and then adding 1 for every positive word and subtracting 1 for every negative word. But I have used 2 different counter variables in order to further quantify the overall sentiment.   "
   ]
  },
  {
   "cell_type": "code",
   "execution_count": 7,
   "metadata": {},
   "outputs": [
    {
     "name": "stdout",
     "output_type": "stream",
     "text": [
      "The total number of tweets extracted were: 1472\n"
     ]
    }
   ],
   "source": [
    "# --------To count the total number of tweets for analysis--------\n",
    "tweetC = 0\n",
    "# Initialize tweet counter variable to zero\n",
    "\n",
    "for line in t:                      # for every element in list of tweets\n",
    "    tweetC += 1                        # count the total number of elements  \n",
    "        \n",
    "print(\"The total number of tweets extracted were: \" + str(tweetC))\n",
    "# Prints: The total number of tweets extracted were: 1472"
   ]
  },
  {
   "cell_type": "markdown",
   "metadata": {},
   "source": [
    "## Analysis"
   ]
  },
  {
   "cell_type": "markdown",
   "metadata": {},
   "source": [
    "### Is the general sentiment positive or negative?\n",
    "The total number of tweets extracted: 1472\n",
    "\n",
    "The total number of positive words is: 1653.  \n",
    "The total number of negative words is: 887.   \n",
    "The overall sentiment of the tweets in numeric value is: 766.    \n",
    "As the overall sentiment of the tweets is a positive number, we can say that the general sentiment is positive.\n",
    "\n",
    "\n",
    "Also, the average number of positive words per tweet is: 1653/1472 = ~1.123. This means that on an average the number of positive words are more than 1 per tweet.     \n",
    "The average number of negative words per tweet is 887/1472 = ~0.60. This means that on an average the number of negative words are 1 or none per tweet.\n",
    "\n",
    "\n",
    "\n",
    "\n",
    "\n"
   ]
  },
  {
   "cell_type": "markdown",
   "metadata": {},
   "source": [
    "### Is the sentiment strongly or weakly positive?\n",
    "\n",
    "Lets define the sentiment level into 4 parts:    \n",
    "0 % - 25%: Strongly negative   \n",
    "25% - 50%: Moderately negative   \n",
    "50% - 75%: Moderately positive   \n",
    "75% - 100%: Strongly positive   \n",
    "\n",
    "The total number of positive and negative words 1653 + 887 = 2540  \n",
    "As the sentiment is positive, the percentage of positive words: 1653/2540*100 = 65.08%    \n",
    "As 65.08% lies in the 3rd part of our sentiment level, we can conclude that the overall sentiment is moderately positive.\n"
   ]
  }
 ],
 "metadata": {
  "kernelspec": {
   "display_name": "Python 3",
   "language": "python",
   "name": "python3"
  },
  "language_info": {
   "codemirror_mode": {
    "name": "ipython",
    "version": 3
   },
   "file_extension": ".py",
   "mimetype": "text/x-python",
   "name": "python",
   "nbconvert_exporter": "python",
   "pygments_lexer": "ipython3",
   "version": "3.7.1"
  }
 },
 "nbformat": 4,
 "nbformat_minor": 2
}
